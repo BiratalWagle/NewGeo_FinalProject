{
 "cells": [
  {
   "cell_type": "code",
   "execution_count": 2,
   "metadata": {},
   "outputs": [],
   "source": [
    "import pandas\n",
    "import numpy\n",
    "\n",
    "dir = './data.csv'\n",
    "dataset = pandas.read_csv(dir)"
   ]
  },
  {
   "cell_type": "code",
   "execution_count": 3,
   "metadata": {},
   "outputs": [],
   "source": [
    "def DNAMatcher(dna1, dna2): \n",
    "    possible = 0\n",
    "    for i in dna1: \n",
    "        if i in dna2: \n",
    "            possible += 1\n",
    "    if possible > 5: \n",
    "        return True\n",
    "\n",
    "\n",
    "def get_compatible_blood_types(blood_type):\n",
    "    blood_type = blood_type.upper()\n",
    "    # Blood type compatibility mappings\n",
    "    compatibility = {\n",
    "        'A+': ['A+', 'AB+'],\n",
    "        'A-': ['A+', 'A-', 'AB+', 'AB-'],\n",
    "        'B+': ['B+', 'AB+'],\n",
    "        'B-': ['B+', 'B-', 'AB+', 'AB-'],\n",
    "        'AB+': ['AB+'],\n",
    "        'AB-': ['AB+', 'AB-'],\n",
    "        'O+': ['A+', 'B+', 'AB+', 'O+'],\n",
    "        'O-': ['A+', 'A-', 'B+', 'B-', 'AB+', 'AB-', 'O+', 'O-']\n",
    "    }\n",
    "\n",
    "    if blood_type in compatibility:\n",
    "        return compatibility[blood_type]\n",
    "    else:\n",
    "        return []\n",
    "\n",
    "def BloodMatcher(blood1, blood2):\n",
    "    ls = get_compatible_blood_types(blood1)\n",
    "    if blood2.upper() in ls: \n",
    "        return True\n",
    "    else: \n",
    "        return False\n",
    "    \n",
    "\n",
    "def FindMatch(bloodtype, DNASeq): \n",
    "    matches = []\n",
    "    for i in range(len(dataset)): \n",
    "        if BloodMatcher(dataset[' Blood Type'][i].strip(), bloodtype.strip()) == True: \n",
    "            if DNAMatcher(dataset[' DNA Sequencing'][i], DNASeq): \n",
    "                matches.append(dataset[' Name (Chinese)'].loc[i])\n",
    "    return matches\n"
   ]
  },
  {
   "cell_type": "code",
   "execution_count": 4,
   "metadata": {},
   "outputs": [
    {
     "data": {
      "text/plain": [
       "[' 张明 (Zhang Ming)',\n",
       " ' نۇرىددىن (Nuriddin)',\n",
       " ' ئارىپ (Arip)',\n",
       " ' 赵敏 (Zhao Min)',\n",
       " ' 乌鲁木齐 (Wulumuqi)']"
      ]
     },
     "execution_count": 4,
     "metadata": {},
     "output_type": "execute_result"
    }
   ],
   "source": [
    "FindMatch(' A+', 'ATGCAT')"
   ]
  },
  {
   "cell_type": "code",
   "execution_count": 6,
   "metadata": {},
   "outputs": [
    {
     "data": {
      "text/plain": [
       "False"
      ]
     },
     "execution_count": 6,
     "metadata": {},
     "output_type": "execute_result"
    }
   ],
   "source": []
  }
 ],
 "metadata": {
  "kernelspec": {
   "display_name": "Python 3",
   "language": "python",
   "name": "python3"
  },
  "language_info": {
   "codemirror_mode": {
    "name": "ipython",
    "version": 3
   },
   "file_extension": ".py",
   "mimetype": "text/x-python",
   "name": "python",
   "nbconvert_exporter": "python",
   "pygments_lexer": "ipython3",
   "version": "3.10.11"
  },
  "orig_nbformat": 4
 },
 "nbformat": 4,
 "nbformat_minor": 2
}
